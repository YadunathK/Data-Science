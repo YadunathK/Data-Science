{
 "cells": [
  {
   "cell_type": "code",
   "execution_count": 6,
   "id": "629c069c",
   "metadata": {},
   "outputs": [
    {
     "name": "stdout",
     "output_type": "stream",
     "text": [
      "orginal array:\n",
      "[4 5]\n",
      "[2 5]\n",
      "greater\n",
      "[ True False]\n",
      "greater_equal\n",
      "[ True  True]\n",
      "less\n",
      "[False False]\n",
      "less_equal\n",
      "[False  True]\n"
     ]
    }
   ],
   "source": [
    "import numpy as np\n",
    "x=np.array([4, 5])\n",
    "y=np.array([2, 5])\n",
    "print(\"orginal array:\")\n",
    "print(x)\n",
    "print(y)\n",
    "print(\"greater\")\n",
    "print(np.greater(x, y))\n",
    "print(\"greater_equal\")\n",
    "print(np.greater_equal(x, y))\n",
    "print(\"less\")\n",
    "print(np.less(x, y))\n",
    "print(\"less_equal\")\n",
    "print(np.less_equal(x, y))"
   ]
  }
 ],
 "metadata": {
  "kernelspec": {
   "display_name": "Python 3 (ipykernel)",
   "language": "python",
   "name": "python3"
  },
  "language_info": {
   "codemirror_mode": {
    "name": "ipython",
    "version": 3
   },
   "file_extension": ".py",
   "mimetype": "text/x-python",
   "name": "python",
   "nbconvert_exporter": "python",
   "pygments_lexer": "ipython3",
   "version": "3.7.11"
  }
 },
 "nbformat": 4,
 "nbformat_minor": 5
}
