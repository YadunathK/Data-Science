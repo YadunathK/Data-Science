{
 "cells": [
  {
   "cell_type": "code",
   "execution_count": 2,
   "id": "52e43abd",
   "metadata": {},
   "outputs": [
    {
     "name": "stdout",
     "output_type": "stream",
     "text": [
      "0      hey\n",
      "1    hello\n",
      "2       hi\n",
      "dtype: object\n"
     ]
    }
   ],
   "source": [
    "import pandas as pd\n",
    "x=pd.Series (['hey','hello','hi'])\n",
    "print(x)"
   ]
  },
  {
   "cell_type": "code",
   "execution_count": 3,
   "id": "86180566",
   "metadata": {},
   "outputs": [
    {
     "name": "stdout",
     "output_type": "stream",
     "text": [
      "DatetimeIndex(['2021-05-01', '2021-05-02', '2021-05-03', '2021-05-04',\n",
      "               '2021-05-05', '2021-05-06', '2021-05-07', '2021-05-08',\n",
      "               '2021-05-09', '2021-05-10', '2021-05-11', '2021-05-12'],\n",
      "              dtype='datetime64[ns]', freq='D')\n"
     ]
    }
   ],
   "source": [
    "import pandas as pd\n",
    "date_series=pd.date_range(start='05-01-2021' , end='05-12-2021')\n",
    "print(date_series)\n"
   ]
  },
  {
   "cell_type": "code",
   "execution_count": 4,
   "id": "fa2375ed",
   "metadata": {},
   "outputs": [
    {
     "name": "stdout",
     "output_type": "stream",
     "text": [
      "     name  age  mark\n",
      "0    yadu   10    30\n",
      "1    alen   20    25\n",
      "2  akshay   30    20\n"
     ]
    }
   ],
   "source": [
    "import pandas as pd\n",
    "dictionary={'name':['yadu','alen','akshay'],'age':[10,20,30],'mark':[30,25,20]}\n",
    "dataframe=pd.DataFrame(dictionary)\n",
    "print(dataframe)\n"
   ]
  },
  {
   "cell_type": "code",
   "execution_count": 5,
   "id": "8a69ca7d",
   "metadata": {},
   "outputs": [
    {
     "name": "stdout",
     "output_type": "stream",
     "text": [
      "   rollno      name  age\n",
      "0       1    Vishnu   22\n",
      "1       2     Krish   25\n",
      "2       3  Amaljith   24\n"
     ]
    }
   ],
   "source": [
    "import pandas as pd\n",
    "lists = [[1, 'Vishnu', 22],\n",
    "         [2, 'Krish', 25],\n",
    "         [3, 'Amaljith', 24]]\n",
    "\n",
    "dataframe = pd.DataFrame(lists, columns = ['rollno', 'name', 'age'])\n",
    "\n",
    "print(dataframe)"
   ]
  },
  {
   "cell_type": "code",
   "execution_count": 7,
   "id": "e3791c43",
   "metadata": {},
   "outputs": [
    {
     "name": "stdout",
     "output_type": "stream",
     "text": [
      "Empty DataFrame\n",
      "Columns: [hai, hello, welcome]\n",
      "Index: []\n"
     ]
    }
   ],
   "source": [
    "import pandas as pd\n",
    "dataframe = pd.read_csv('data1.csv')\n",
    "\n",
    "print(dataframe)"
   ]
  },
  {
   "cell_type": "code",
   "execution_count": 8,
   "id": "14c8a919",
   "metadata": {},
   "outputs": [
    {
     "name": "stdout",
     "output_type": "stream",
     "text": [
      "   rollno      name  age\n",
      "0       3    Vishnu   22\n",
      "1       2     Krish   25\n",
      "2       1  Amaljith   24\n",
      "\n",
      "   rollno      name  age\n",
      "2       1  Amaljith   24\n",
      "1       2     Krish   25\n",
      "0       3    Vishnu   22\n"
     ]
    }
   ],
   "source": [
    "import pandas as pd\n",
    "lists = [[3, 'Vishnu', 22],\n",
    "         [2, 'Krish', 25],\n",
    "         [1, 'Amaljith', 24]]\n",
    "\n",
    "dataframe = pd.DataFrame(lists, columns = ['rollno', 'name', 'age'])\n",
    "\n",
    "print(dataframe)\n",
    "\n",
    "\n",
    "print()\n",
    "\n",
    "dataframe_sorted = dataframe.sort_values(by = ['rollno', 'age']) # dataframe after sorting by 'id' and 'age'\n",
    "\n",
    "print(dataframe_sorted)\n"
   ]
  },
  {
   "cell_type": "code",
   "execution_count": 9,
   "id": "4d5404e7",
   "metadata": {},
   "outputs": [
    {
     "name": "stdout",
     "output_type": "stream",
     "text": [
      "   rollno      name  age\n",
      "0      30    Vishnu   22\n",
      "1      23     Krish   25\n",
      "2      12  Amaljith   24\n",
      "\n",
      "   index  rollno      name  age\n",
      "0      0      30    Vishnu   22\n",
      "1      1      23     Krish   25\n",
      "2      2      12  Amaljith   24\n"
     ]
    }
   ],
   "source": [
    "import pandas as pd\n",
    "lists = [[30, 'Vishnu', 22],\n",
    "         [23, 'Krish', 25],\n",
    "         [12, 'Amaljith', 24]]\n",
    "\n",
    "dataframe = pd.DataFrame(lists, columns = ['rollno', 'name', 'age'])\n",
    "\n",
    "\n",
    "print(dataframe)\n",
    "print()\n",
    "\n",
    "dataframe = dataframe.reset_index()\n",
    "\n",
    "print(dataframe)\n",
    " "
   ]
  },
  {
   "cell_type": "code",
   "execution_count": 10,
   "id": "49277031",
   "metadata": {},
   "outputs": [
    {
     "name": "stdout",
     "output_type": "stream",
     "text": [
      "   rollno      name  age\n",
      "0      30    Vishnu   22\n",
      "1      23     Krish   25\n",
      "2      12  Amaljith   24\n",
      "\n",
      "   rollno    name  age\n",
      "0      30  Vishnu   22\n",
      "1      23   Krish   25\n"
     ]
    }
   ],
   "source": [
    "import pandas as pd\n",
    "lists = [[30, 'Vishnu', 22],\n",
    "         [23, 'Krish', 25],\n",
    "         [12, 'Amaljith', 24]]\n",
    "\n",
    "dataframe = pd.DataFrame(lists, columns = ['rollno', 'name', 'age'])\n",
    "\n",
    "print(dataframe)\n",
    "\n",
    "print()\n",
    "\n",
    "o = dataframe.iloc[[0,1], :]\n",
    "\n",
    "print(o)"
   ]
  },
  {
   "cell_type": "code",
   "execution_count": 11,
   "id": "c5deed5e",
   "metadata": {},
   "outputs": [
    {
     "name": "stdout",
     "output_type": "stream",
     "text": [
      "       name occupation  salary\n",
      "0    Vishnu     doctor   22000\n",
      "1     Vivek     doctor   28000\n",
      "2      achu     farmer    1500\n",
      "3     minnu     doctor   22000\n",
      "4     Krish   engineer   25000\n",
      "5  Amaljith     farmer    2000\n",
      "\n",
      "occupation\n",
      "doctor      24000.0\n",
      "engineer    25000.0\n",
      "farmer       1750.0\n",
      "Name: salary, dtype: float64\n"
     ]
    }
   ],
   "source": [
    "import pandas as pd\n",
    "lists = [['Vishnu','doctor', 22000],\n",
    "         ['Vivek','doctor', 28000],\n",
    "         ['achu','farmer', 1500],\n",
    "         ['minnu','doctor', 22000],\n",
    "         ['Krish', 'engineer',25000],\n",
    "         ['Amaljith','farmer', 2000]]\n",
    "\n",
    "dataframe = pd.DataFrame(lists, columns = ['name','occupation', 'salary'])\n",
    "\n",
    "print(dataframe) \n",
    "print()\n",
    "\n",
    "occ_average_age = dataframe.groupby('occupation')['salary'].mean()\n",
    "\n",
    "print(occ_average_age)\n"
   ]
  },
  {
   "cell_type": "code",
   "execution_count": 12,
   "id": "1aabf75f",
   "metadata": {},
   "outputs": [
    {
     "name": "stdout",
     "output_type": "stream",
     "text": [
      "       name occupation   salary\n",
      "0    Vishnu     doctor  22000.0\n",
      "1     Vivek     doctor      NaN\n",
      "2      achu     farmer   1500.0\n",
      "3     minnu     doctor      NaN\n",
      "4     Krish   engineer  25000.0\n",
      "5  Amaljith     farmer      NaN\n",
      "\n",
      "       name occupation   salary\n",
      "0    Vishnu     doctor  22000.0\n",
      "1     Vivek     doctor      0.0\n",
      "2      achu     farmer   1500.0\n",
      "3     minnu     doctor      0.0\n",
      "4     Krish   engineer  25000.0\n",
      "5  Amaljith     farmer      0.0\n"
     ]
    }
   ],
   "source": [
    "import pandas as pd\n",
    "import numpy as np\n",
    "lists = [['Vishnu','doctor', 22000],\n",
    "         ['Vivek','doctor', np.nan],\n",
    "         ['achu','farmer', 1500],\n",
    "         ['minnu','doctor',np.nan],\n",
    "         ['Krish', 'engineer',25000],\n",
    "         ['Amaljith','farmer',np.nan]]\n",
    "\n",
    "dataframe = pd.DataFrame(lists, columns = ['name','occupation', 'salary'])\n",
    "\n",
    "print(dataframe) \n",
    "\n",
    "print()\n",
    "\n",
    "dataframe_nullfill = dataframe.fillna(0)\n",
    "\n",
    "print(dataframe_nullfill) \n"
   ]
  },
  {
   "cell_type": "code",
   "execution_count": 13,
   "id": "07f4237f",
   "metadata": {},
   "outputs": [
    {
     "name": "stdout",
     "output_type": "stream",
     "text": [
      "      c_name  profit\n",
      "0        UST   22000\n",
      "1    VIRTUSA   28000\n",
      "2  COGNIZANT    1500\n",
      "3        TCS  -22000\n",
      "4  CAPGWMINI  -25000\n",
      "\n",
      "      c_name  profit\n",
      "0        UST    True\n",
      "1    VIRTUSA    True\n",
      "2  COGNIZANT    True\n",
      "3        TCS   False\n",
      "4  CAPGWMINI   False\n"
     ]
    }
   ],
   "source": [
    "import pandas as pd\n",
    "\n",
    "lists = [['UST', +22000],\n",
    "         ['VIRTUSA', +28000],\n",
    "         ['COGNIZANT', +1500],\n",
    "         ['TCS', -22000],\n",
    "         ['CAPGWMINI',-25000]]\n",
    "\n",
    "company_data= pd.DataFrame(lists, columns = ['c_name','profit'])\n",
    "print(company_data) # original dataframe\n",
    "\n",
    "print()\n",
    "\n",
    "company_data['profit'] = company_data['profit'].apply(lambda x:x>0)\n",
    "\n",
    "print(company_data) "
   ]
  },
  {
   "cell_type": "code",
   "execution_count": 14,
   "id": "e9e2bb77",
   "metadata": {},
   "outputs": [
    {
     "name": "stdout",
     "output_type": "stream",
     "text": [
      "   eid     ename  stipend\n",
      "0    1    Vishnu     2200\n",
      "1    2     Krish     2500\n",
      "2    3  Amaljith     2400\n",
      "\n",
      "   eid position\n",
      "0    1      CEO\n",
      "1    2  MANAGER\n",
      "2    3   INTERN\n",
      "\n",
      "   eid     ename  stipend position\n",
      "0    1    Vishnu     2200      CEO\n",
      "1    2     Krish     2500  MANAGER\n",
      "2    3  Amaljith     2400   INTERN\n"
     ]
    }
   ],
   "source": [
    "import pandas as pd\n",
    "list1 = [[1, 'Vishnu', 2200],\n",
    "         [2, 'Krish', 2500],\n",
    "         [3, 'Amaljith', 2400]]\n",
    "\n",
    "emp_data= pd.DataFrame(list1, columns = ['eid', 'ename', 'stipend'])\n",
    "print(emp_data) \n",
    "print()\n",
    "\n",
    "list2 = [[1, 'CEO'],\n",
    "         [2, 'MANAGER'],\n",
    "         [3, 'INTERN']]\n",
    "\n",
    "comp_data= pd.DataFrame(list2, columns = ['eid', 'position'])\n",
    "\n",
    "print(comp_data)\n",
    "print()\n",
    "\n",
    "dataframe = pd.merge(emp_data, comp_data, how = 'inner', on = 'eid') \n",
    "print(dataframe)\n"
   ]
  },
  {
   "cell_type": "code",
   "execution_count": null,
   "id": "870890b4",
   "metadata": {},
   "outputs": [],
   "source": []
  }
 ],
 "metadata": {
  "kernelspec": {
   "display_name": "Python 3 (ipykernel)",
   "language": "python",
   "name": "python3"
  },
  "language_info": {
   "codemirror_mode": {
    "name": "ipython",
    "version": 3
   },
   "file_extension": ".py",
   "mimetype": "text/x-python",
   "name": "python",
   "nbconvert_exporter": "python",
   "pygments_lexer": "ipython3",
   "version": "3.9.7"
  }
 },
 "nbformat": 4,
 "nbformat_minor": 5
}
